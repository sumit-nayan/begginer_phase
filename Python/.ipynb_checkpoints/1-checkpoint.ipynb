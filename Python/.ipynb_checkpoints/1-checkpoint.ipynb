{
 "cells": [
  {
   "cell_type": "code",
   "execution_count": 5,
   "id": "85f854cb",
   "metadata": {},
   "outputs": [
    {
     "name": "stdout",
     "output_type": "stream",
     "text": [
      "IDK\n"
     ]
    }
   ],
   "source": [
    "a=50\n",
    "b=60\n",
    "if a>b:\n",
    "    print(\"b is greater than a\")\n",
    "else:\n",
    "    print(\"IDK\")"
   ]
  },
  {
   "cell_type": "code",
   "execution_count": 6,
   "id": "f8707628",
   "metadata": {},
   "outputs": [
    {
     "name": "stdout",
     "output_type": "stream",
     "text": [
      "Premkamal\n",
      "Premkamal\n",
      "Premkamal\n"
     ]
    }
   ],
   "source": [
    "count=0\n",
    "while(count<3):\n",
    "    count = count +1\n",
    "    print(\"Premkamal\")"
   ]
  },
  {
   "cell_type": "code",
   "execution_count": 7,
   "id": "45c02372",
   "metadata": {},
   "outputs": [
    {
     "name": "stdout",
     "output_type": "stream",
     "text": [
      "0\n",
      "1\n",
      "2\n",
      "3\n",
      "4\n",
      "5\n",
      "6\n",
      "7\n",
      "8\n",
      "9\n",
      "10\n",
      "11\n",
      "12\n",
      "13\n",
      "14\n",
      "15\n",
      "16\n",
      "17\n",
      "18\n",
      "19\n",
      "20\n",
      "21\n",
      "22\n",
      "23\n",
      "24\n",
      "25\n",
      "26\n",
      "27\n",
      "28\n",
      "29\n",
      "30\n",
      "31\n",
      "32\n",
      "33\n",
      "34\n",
      "35\n",
      "36\n",
      "37\n",
      "38\n",
      "39\n",
      "40\n",
      "41\n",
      "42\n",
      "43\n",
      "44\n",
      "45\n",
      "46\n",
      "47\n",
      "48\n",
      "49\n",
      "50\n",
      "51\n",
      "52\n",
      "53\n",
      "54\n",
      "55\n",
      "56\n",
      "57\n",
      "58\n",
      "59\n",
      "60\n",
      "61\n",
      "62\n",
      "63\n",
      "64\n",
      "65\n",
      "66\n",
      "67\n",
      "68\n",
      "69\n",
      "70\n",
      "71\n",
      "72\n",
      "73\n",
      "74\n",
      "75\n",
      "76\n",
      "77\n",
      "78\n",
      "79\n",
      "80\n",
      "81\n",
      "82\n",
      "83\n",
      "84\n",
      "85\n",
      "86\n",
      "87\n",
      "88\n",
      "89\n",
      "90\n",
      "91\n",
      "92\n",
      "93\n",
      "94\n",
      "95\n",
      "96\n",
      "97\n",
      "98\n",
      "99\n"
     ]
    }
   ],
   "source": [
    "n=100\n",
    "for i in range (0,n):\n",
    "    print(i)"
   ]
  },
  {
   "cell_type": "code",
   "execution_count": 17,
   "id": "78e9410c",
   "metadata": {},
   "outputs": [
    {
     "name": "stdout",
     "output_type": "stream",
     "text": [
      "Enter your number: 12345678\n",
      "76207888812681\n"
     ]
    }
   ],
   "source": [
    "n = int(input(\"Enter your number: \"))\n",
    "sum = 0\n",
    "for i in range (0,n+1):\n",
    "    sum = sum + i\n",
    "print(sum)"
   ]
  },
  {
   "cell_type": "code",
   "execution_count": 21,
   "id": "f0545417",
   "metadata": {},
   "outputs": [
    {
     "name": "stdout",
     "output_type": "stream",
     "text": [
      "Enter your number: 5\n",
      "120\n"
     ]
    }
   ],
   "source": [
    "n = int(input(\"Enter your number: \"))\n",
    "factorial = 1\n",
    "for i in range (1,n+1):\n",
    "    factorial = factorial * i\n",
    "print(factorial)"
   ]
  },
  {
   "cell_type": "code",
   "execution_count": 5,
   "id": "1cc22997",
   "metadata": {},
   "outputs": [
    {
     "name": "stdout",
     "output_type": "stream",
     "text": [
      "your number is %s(n) and we don't know further\n"
     ]
    }
   ],
   "source": [
    "n = int(input(\"Enter your number: \"))\n",
    "print(\"your number is str(n) and we don't know further\")"
   ]
  },
  {
   "cell_type": "code",
   "execution_count": 8,
   "id": "2da47743",
   "metadata": {},
   "outputs": [],
   "source": [
    "import turtle"
   ]
  },
  {
   "cell_type": "code",
   "execution_count": 9,
   "id": "6a921465",
   "metadata": {},
   "outputs": [],
   "source": [
    "import turtle\n",
    "from turtle import*\n",
    "\n",
    "#screen for output\n",
    "screen = turtle.Screen()\n",
    "\n",
    "# Defining a turtle Instance\n",
    "t = turtle.Turtle()\n",
    "speed(0)\n",
    "\n",
    "# initially penup()\n",
    "t.penup()\n",
    "t.goto(-400, 250)\n",
    "t.pendown()\n",
    "\n",
    "# Orange Rectangle\n",
    "#white rectangle\n",
    "t.color(\"orange\")\n",
    "t.begin_fill()\n",
    "t.forward(800)\n",
    "t.right(90)\n",
    "t.forward(167)\n",
    "t.right(90)\n",
    "t.forward(800)\n",
    "t.end_fill()\n",
    "t.left(90)\n",
    "t.forward(167)\n",
    "\n",
    "# Green Rectangle\n",
    "t.color(\"green\")\n",
    "t.begin_fill()\n",
    "t.forward(167)\n",
    "t.left(90)\n",
    "t.forward(800)\n",
    "t.left(90)\n",
    "t.forward(167)\n",
    "t.end_fill()\n",
    "\n",
    "# Big Blue Circle\n",
    "t.penup()\n",
    "t.goto(70, 0)\n",
    "t.pendown()\n",
    "t.color(\"navy\")\n",
    "t.begin_fill()\n",
    "t.circle(70)\n",
    "t.end_fill()\n",
    "\n",
    "# Big White Circle\n",
    "t.penup()\n",
    "t.goto(60, 0)\n",
    "t.pendown()\n",
    "t.color(\"white\")\n",
    "t.begin_fill()\n",
    "t.circle(60)\n",
    "t.end_fill()\n",
    "\n",
    "# Mini Blue Circles\n",
    "t.penup()\n",
    "t.goto(-57, -8)\n",
    "t.pendown()\n",
    "t.color(\"navy\")\n",
    "for i in range(24):\n",
    "\tt.begin_fill()\n",
    "\tt.circle(3)\n",
    "\tt.end_fill()\n",
    "\tt.penup()\n",
    "\tt.forward(15)\n",
    "\tt.right(15)\n",
    "\tt.pendown()\n",
    "\t\n",
    "# Small Blue Circle\n",
    "t.penup()\n",
    "t.goto(20, 0)\n",
    "t.pendown()\n",
    "t.begin_fill()\n",
    "t.circle(20)\n",
    "t.end_fill()\n",
    "# Spokes\n",
    "t.penup()\n",
    "t.goto(0, 0)\n",
    "t.pendown()\n",
    "t.pensize(2)\n",
    "for i in range(24):\n",
    "\tt.forward(60)\n",
    "\tt.backward(60)\n",
    "\tt.left(15)\n",
    "\t\n",
    "#to hold the\n",
    "#output window\n",
    "turtle.done()\n"
   ]
  },
  {
   "cell_type": "code",
   "execution_count": 10,
   "id": "7d11a1f3",
   "metadata": {},
   "outputs": [
    {
     "ename": "TypeError",
     "evalue": "object of type 'map' has no len()",
     "output_type": "error",
     "traceback": [
      "\u001b[0;31m---------------------------------------------------------------------------\u001b[0m",
      "\u001b[0;31mTypeError\u001b[0m                                 Traceback (most recent call last)",
      "\u001b[1;32m/home/sumit/Coding/My Codes/Python/.ipynb_checkpoints/1-checkpoint.ipynb Cell 9'\u001b[0m in \u001b[0;36m<cell line: 16>\u001b[0;34m()\u001b[0m\n\u001b[1;32m     <a href='vscode-notebook-cell:/home/sumit/Coding/My%20Codes/Python/.ipynb_checkpoints/1-checkpoint.ipynb#ch0000008?line=23'>24</a>\u001b[0m \u001b[39m# Input the element to be searched\u001b[39;00m\n\u001b[1;32m     <a href='vscode-notebook-cell:/home/sumit/Coding/My%20Codes/Python/.ipynb_checkpoints/1-checkpoint.ipynb#ch0000008?line=24'>25</a>\u001b[0m x \u001b[39m=\u001b[39m \u001b[39mint\u001b[39m(\u001b[39minput\u001b[39m())\n\u001b[0;32m---> <a href='vscode-notebook-cell:/home/sumit/Coding/My%20Codes/Python/.ipynb_checkpoints/1-checkpoint.ipynb#ch0000008?line=26'>27</a>\u001b[0m \u001b[39mprint\u001b[39m(search(arr, x))\n",
      "\u001b[1;32m/home/sumit/Coding/My Codes/Python/.ipynb_checkpoints/1-checkpoint.ipynb Cell 9'\u001b[0m in \u001b[0;36msearch\u001b[0;34m(arr, x)\u001b[0m\n\u001b[1;32m      <a href='vscode-notebook-cell:/home/sumit/Coding/My%20Codes/Python/.ipynb_checkpoints/1-checkpoint.ipynb#ch0000008?line=4'>5</a>\u001b[0m \u001b[39mdef\u001b[39;00m \u001b[39msearch\u001b[39m(arr, x):\n\u001b[0;32m----> <a href='vscode-notebook-cell:/home/sumit/Coding/My%20Codes/Python/.ipynb_checkpoints/1-checkpoint.ipynb#ch0000008?line=5'>6</a>\u001b[0m \tn \u001b[39m=\u001b[39m \u001b[39mlen\u001b[39;49m(arr)\n\u001b[1;32m      <a href='vscode-notebook-cell:/home/sumit/Coding/My%20Codes/Python/.ipynb_checkpoints/1-checkpoint.ipynb#ch0000008?line=6'>7</a>\u001b[0m \t\u001b[39mfor\u001b[39;00m j \u001b[39min\u001b[39;00m \u001b[39mrange\u001b[39m(\u001b[39m0\u001b[39m,n):\n\u001b[1;32m      <a href='vscode-notebook-cell:/home/sumit/Coding/My%20Codes/Python/.ipynb_checkpoints/1-checkpoint.ipynb#ch0000008?line=7'>8</a>\u001b[0m \t\t\u001b[39mif\u001b[39;00m (x \u001b[39m==\u001b[39m arr[j]):\n",
      "\u001b[0;31mTypeError\u001b[0m: object of type 'map' has no len()"
     ]
    }
   ],
   "source": [
    "# A Sample Python program for beginners with Competitive Programming\n",
    "\n",
    "# Returns index of x in arr if it is present,\n",
    "# else returns -1\n",
    "def search(arr, x):\n",
    "\tn = len(arr)\n",
    "\tfor j in range(0,n):\n",
    "\t\tif (x == arr[j]):\n",
    "\t\t\treturn j\n",
    "\treturn -1\n",
    "\n",
    "# Input number of test cases\n",
    "t = int(input())\n",
    "\n",
    "# One by one run for all input test cases\n",
    "for i in range(0,t):\n",
    "\n",
    "\t# Input the size of the array\n",
    "\tn = int(input())\n",
    "\n",
    "\t# Input the array\n",
    "\tarr = map(int, input().split())\n",
    "\n",
    "\t# Input the element to be searched\n",
    "\tx = int(input())\n",
    "\n",
    "\tprint(search(arr, x))\n",
    "\n",
    "\t# The element can also be searched by index method\n",
    "\t# But you need to handle the exception when element is not found\n",
    "\t# Uncomment the below line to get that working.\n",
    "\t# arr.index(x)\n"
   ]
  },
  {
   "cell_type": "code",
   "execution_count": 11,
   "id": "27f7d4d5",
   "metadata": {},
   "outputs": [
    {
     "name": "stdout",
     "output_type": "stream",
     "text": [
      "4\n"
     ]
    }
   ],
   "source": [
    "a = [4,5,6]\n",
    "print(a[0])"
   ]
  },
  {
   "cell_type": "code",
   "execution_count": 14,
   "id": "37a416e8",
   "metadata": {},
   "outputs": [
    {
     "name": "stdout",
     "output_type": "stream",
     "text": [
      "4\n"
     ]
    }
   ],
   "source": [
    "int(input(n))\n",
    "for i in range(0,n):\n",
    "    int(input(a[i]))\n",
    "for i in range(0,n):\n",
    "    print(a[i])"
   ]
  },
  {
   "cell_type": "code",
   "execution_count": 15,
   "id": "735b591a",
   "metadata": {},
   "outputs": [],
   "source": [
    "import math"
   ]
  },
  {
   "cell_type": "code",
   "execution_count": 17,
   "id": "4ac78c1e",
   "metadata": {},
   "outputs": [
    {
     "name": "stdout",
     "output_type": "stream",
     "text": [
      "3.141592653589793\n"
     ]
    }
   ],
   "source": [
    "print(math.pi)"
   ]
  },
  {
   "cell_type": "code",
   "execution_count": 20,
   "id": "dec4e214",
   "metadata": {},
   "outputs": [
    {
     "data": {
      "text/plain": [
       "5"
      ]
     },
     "execution_count": 20,
     "metadata": {},
     "output_type": "execute_result"
    }
   ],
   "source": [
    "import math\n",
    "math.ceil(4.6)"
   ]
  },
  {
   "cell_type": "code",
   "execution_count": 21,
   "id": "801e49e5",
   "metadata": {},
   "outputs": [
    {
     "ename": "ModuleNotFoundError",
     "evalue": "No module named 'camelcase'",
     "output_type": "error",
     "traceback": [
      "\u001b[0;31m---------------------------------------------------------------------------\u001b[0m",
      "\u001b[0;31mModuleNotFoundError\u001b[0m                       Traceback (most recent call last)",
      "\u001b[1;32m/home/sumit/Coding/My Codes/Python/.ipynb_checkpoints/1-checkpoint.ipynb Cell 5'\u001b[0m in \u001b[0;36m<cell line: 1>\u001b[0;34m()\u001b[0m\n\u001b[0;32m----> <a href='vscode-notebook-cell:/home/sumit/Coding/My%20Codes/Python/.ipynb_checkpoints/1-checkpoint.ipynb#ch0000004?line=0'>1</a>\u001b[0m \u001b[39mimport\u001b[39;00m \u001b[39mcamelcase\u001b[39;00m\n\u001b[1;32m      <a href='vscode-notebook-cell:/home/sumit/Coding/My%20Codes/Python/.ipynb_checkpoints/1-checkpoint.ipynb#ch0000004?line=2'>3</a>\u001b[0m c \u001b[39m=\u001b[39m camelcase\u001b[39m.\u001b[39mCamelCase()\n\u001b[1;32m      <a href='vscode-notebook-cell:/home/sumit/Coding/My%20Codes/Python/.ipynb_checkpoints/1-checkpoint.ipynb#ch0000004?line=4'>5</a>\u001b[0m txt \u001b[39m=\u001b[39m \u001b[39m\"\u001b[39m\u001b[39mhello world\u001b[39m\u001b[39m\"\u001b[39m\n",
      "\u001b[0;31mModuleNotFoundError\u001b[0m: No module named 'camelcase'"
     ]
    }
   ],
   "source": [
    "import camelcase\n",
    "\n",
    "c = camelcase.CamelCase()\n",
    "\n",
    "txt = \"hello world\"\n",
    "\n",
    "print(c.hump(txt))"
   ]
  },
  {
   "cell_type": "code",
   "execution_count": 22,
   "id": "950e8996",
   "metadata": {},
   "outputs": [
    {
     "ename": "ModuleNotFoundError",
     "evalue": "No module named 'camelcase'",
     "output_type": "error",
     "traceback": [
      "\u001b[0;31m---------------------------------------------------------------------------\u001b[0m",
      "\u001b[0;31mModuleNotFoundError\u001b[0m                       Traceback (most recent call last)",
      "\u001b[1;32m/home/sumit/Coding/My Codes/Python/.ipynb_checkpoints/1-checkpoint.ipynb Cell 16'\u001b[0m in \u001b[0;36m<cell line: 1>\u001b[0;34m()\u001b[0m\n\u001b[0;32m----> <a href='vscode-notebook-cell:/home/sumit/Coding/My%20Codes/Python/.ipynb_checkpoints/1-checkpoint.ipynb#ch0000015?line=0'>1</a>\u001b[0m \u001b[39mimport\u001b[39;00m \u001b[39mcamelcase\u001b[39;00m\n",
      "\u001b[0;31mModuleNotFoundError\u001b[0m: No module named 'camelcase'"
     ]
    }
   ],
   "source": [
    "import camelcase"
   ]
  },
  {
   "cell_type": "code",
   "execution_count": null,
   "id": "2167cac3",
   "metadata": {},
   "outputs": [],
   "source": []
  }
 ],
 "metadata": {
  "kernelspec": {
   "display_name": "Python 3.8.10 64-bit",
   "language": "python",
   "name": "python3"
  },
  "language_info": {
   "codemirror_mode": {
    "name": "ipython",
    "version": 3
   },
   "file_extension": ".py",
   "mimetype": "text/x-python",
   "name": "python",
   "nbconvert_exporter": "python",
   "pygments_lexer": "ipython3",
   "version": "3.8.10"
  },
  "vscode": {
   "interpreter": {
    "hash": "916dbcbb3f70747c44a77c7bcd40155683ae19c65e1c03b4aa3499c5328201f1"
   }
  }
 },
 "nbformat": 4,
 "nbformat_minor": 5
}

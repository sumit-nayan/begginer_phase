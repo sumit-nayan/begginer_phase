{
 "cells": [
  {
   "cell_type": "code",
   "execution_count": null,
   "id": "98880ce6",
   "metadata": {},
   "outputs": [],
   "source": [
    "a=50\n",
    "b=60\n",
    "if a>b:\n",
    "    print(\"b is greater than a\")\n",
    "else:\n",
    "    print(\"IDK\")"
   ]
  },
  {
   "cell_type": "code",
   "execution_count": null,
   "id": "ea94818b",
   "metadata": {},
   "outputs": [],
   "source": [
    "count=0\n",
    "while(count<3):\n",
    "    count = count +1\n",
    "    print(\"Premkamal\")"
   ]
  },
  {
   "cell_type": "code",
   "execution_count": null,
   "id": "591263c8",
   "metadata": {},
   "outputs": [],
   "source": [
    "n=100\n",
    "for i in range (0,n):\n",
    "    print(i)"
   ]
  },
  {
   "cell_type": "code",
   "execution_count": null,
   "id": "3e3312dd",
   "metadata": {},
   "outputs": [],
   "source": [
    "n = int(input(\"Enter your number: \"))\n",
    "sum = 0\n",
    "for i in range (0,n+1):\n",
    "    sum = sum + i\n",
    "print(sum)"
   ]
  },
  {
   "cell_type": "code",
   "execution_count": null,
   "id": "71e193c4",
   "metadata": {},
   "outputs": [],
   "source": [
    "n = int(input(\"Enter your number: \"))\n",
    "factorial = 1\n",
    "for i in range (1,n+1):\n",
    "    factorial = factorial * i\n",
    "print(factorial)"
   ]
  },
  {
   "cell_type": "code",
   "execution_count": null,
   "id": "abe2cbcd",
   "metadata": {},
   "outputs": [],
   "source": [
    "n = int(input(\"Enter your number: \"))\n",
    "if(n%2==0):\n",
    "    print(\"Even\")\n",
    "else:\n",
    "\n",
    "    print(\"Odd\")"
   ]
  },
  {
   "cell_type": "code",
   "execution_count": null,
   "id": "3b7ce0d9",
   "metadata": {},
   "outputs": [],
   "source": [
    "for i in range(0,100):\n",
    "    i=i+1\n",
    "    print(\"Premkamal\")"
   ]
  },
  {
   "cell_type": "code",
   "execution_count": null,
   "id": "0ded9c97",
   "metadata": {},
   "outputs": [],
   "source": [
    "def s():\n",
    "    print(\"Premkamal\")\n",
    "for i in range(0,100):\n",
    "    s() \n",
    "    i = i+1   "
   ]
  },
  {
   "cell_type": "code",
   "execution_count": null,
   "id": "96e2ebf1",
   "metadata": {},
   "outputs": [],
   "source": [
    "i = 0\n",
    "j = 0\n",
    "print(\"*\")\n",
    "for i in range(0,10):\n",
    "    i = i + 1\n",
    "    print(\"\\n\")\n",
    "    for j in range(0,i+1):\n",
    "        print(\"* \",end=\"\")\n",
    "        j = j + 1\n"
   ]
  },
  {
   "cell_type": "code",
   "execution_count": null,
   "id": "af40d58f",
   "metadata": {},
   "outputs": [],
   "source": []
  }
 ],
 "metadata": {
  "kernelspec": {
   "display_name": "Python 3.8.10 64-bit",
   "language": "python",
   "name": "python3"
  },
  "language_info": {
   "codemirror_mode": {
    "name": "ipython",
    "version": 3
   },
   "file_extension": ".py",
   "mimetype": "text/x-python",
   "name": "python",
   "nbconvert_exporter": "python",
   "pygments_lexer": "ipython3",
   "version": "3.10.6 (main, Nov 14 2022, 16:10:14) [GCC 11.3.0]"
  },
  "vscode": {
   "interpreter": {
    "hash": "916dbcbb3f70747c44a77c7bcd40155683ae19c65e1c03b4aa3499c5328201f1"
   }
  }
 },
 "nbformat": 4,
 "nbformat_minor": 5
}

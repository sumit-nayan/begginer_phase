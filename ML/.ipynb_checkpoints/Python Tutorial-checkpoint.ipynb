{
 "cells": [
  {
   "cell_type": "markdown",
   "id": "3e405a49",
   "metadata": {},
   "source": [
    "# Python Tutorial"
   ]
  },
  {
   "cell_type": "code",
   "execution_count": 3,
   "id": "6ad0215e",
   "metadata": {},
   "outputs": [
    {
     "name": "stdout",
     "output_type": "stream",
     "text": [
      "Premkamal\n"
     ]
    }
   ],
   "source": [
    "print(\"Premkamal\")"
   ]
  },
  {
   "cell_type": "code",
   "execution_count": 5,
   "id": "64fca93d",
   "metadata": {},
   "outputs": [],
   "source": [
    "age = 20"
   ]
  },
  {
   "cell_type": "code",
   "execution_count": 6,
   "id": "0e6afc29",
   "metadata": {},
   "outputs": [
    {
     "name": "stdout",
     "output_type": "stream",
     "text": [
      "20\n"
     ]
    }
   ],
   "source": [
    "print(age)"
   ]
  },
  {
   "cell_type": "code",
   "execution_count": 7,
   "id": "952ce243",
   "metadata": {},
   "outputs": [],
   "source": [
    "first_name = \"Sumit Nayan\""
   ]
  },
  {
   "cell_type": "code",
   "execution_count": 8,
   "id": "fea1ce44",
   "metadata": {},
   "outputs": [
    {
     "name": "stdout",
     "output_type": "stream",
     "text": [
      "Sumit Nayan\n"
     ]
    }
   ],
   "source": [
    "print(first_name)"
   ]
  },
  {
   "cell_type": "code",
   "execution_count": 9,
   "id": "b7e62c27",
   "metadata": {},
   "outputs": [],
   "source": [
    "is_online = False"
   ]
  },
  {
   "cell_type": "code",
   "execution_count": 17,
   "id": "48541c96",
   "metadata": {},
   "outputs": [
    {
     "name": "stdout",
     "output_type": "stream",
     "text": [
      "What is your name?\n",
      "Jhon F Kennedy\n"
     ]
    }
   ],
   "source": [
    "name=input(\"What is your name?\\n\")"
   ]
  },
  {
   "cell_type": "code",
   "execution_count": 19,
   "id": "a92f3458",
   "metadata": {},
   "outputs": [
    {
     "name": "stdout",
     "output_type": "stream",
     "text": [
      "Hello Jhon F Kennedy\n"
     ]
    }
   ],
   "source": [
    "print(\"Hello \"+name)"
   ]
  },
  {
   "cell_type": "code",
   "execution_count": 20,
   "id": "58c8bbb4",
   "metadata": {},
   "outputs": [
    {
     "name": "stdout",
     "output_type": "stream",
     "text": [
      "Enter your birth year :1998\n"
     ]
    }
   ],
   "source": [
    "birth_year = input(\"Enter your birth year :\")"
   ]
  },
  {
   "cell_type": "code",
   "execution_count": 21,
   "id": "1915ed82",
   "metadata": {
    "scrolled": true
   },
   "outputs": [
    {
     "ename": "TypeError",
     "evalue": "unsupported operand type(s) for -: 'int' and 'str'",
     "output_type": "error",
     "traceback": [
      "\u001b[0;31m---------------------------------------------------------------------------\u001b[0m",
      "\u001b[0;31mTypeError\u001b[0m                                 Traceback (most recent call last)",
      "Cell \u001b[0;32mIn[21], line 1\u001b[0m\n\u001b[0;32m----> 1\u001b[0m age \u001b[38;5;241m=\u001b[39m \u001b[38;5;241;43m2022\u001b[39;49m\u001b[43m \u001b[49m\u001b[38;5;241;43m-\u001b[39;49m\u001b[43m \u001b[49m\u001b[43mbirth_year\u001b[49m\n",
      "\u001b[0;31mTypeError\u001b[0m: unsupported operand type(s) for -: 'int' and 'str'"
     ]
    }
   ],
   "source": [
    "age = 2022 - birth_year"
   ]
  },
  {
   "cell_type": "markdown",
   "id": "d933426a",
   "metadata": {},
   "source": [
    "Here error comes because we are substracting string from int. When we receive data from input fn he takes as\n",
    "string. So, we are substracting like this : 2022 - \"1998\".\n",
    "To convert in int from string we use int() function."
   ]
  },
  {
   "cell_type": "code",
   "execution_count": 25,
   "id": "a5e122ec",
   "metadata": {},
   "outputs": [
    {
     "name": "stdout",
     "output_type": "stream",
     "text": [
      "24\n"
     ]
    }
   ],
   "source": [
    "age = 2022 - int(birth_year)\n",
    "print(age)"
   ]
  },
  {
   "cell_type": "markdown",
   "id": "9eb329c7",
   "metadata": {},
   "source": [
    "We have similar function for bool(), float(),str()"
   ]
  },
  {
   "cell_type": "markdown",
   "id": "835b7a3a",
   "metadata": {},
   "source": [
    "# Addition of string, Number, string"
   ]
  },
  {
   "cell_type": "code",
   "execution_count": 7,
   "id": "b592bb34",
   "metadata": {},
   "outputs": [
    {
     "name": "stdout",
     "output_type": "stream",
     "text": [
      "first : 12\n",
      "second : 15\n",
      "1215\n"
     ]
    }
   ],
   "source": [
    "first = input(\"first : \")\n",
    "second = input(\"second : \")\n",
    "sum = first + second\n",
    "print(sum)\n",
    "\n",
    "#Here we are adding two string.,so answer of 10+10 will come as 1010."
   ]
  },
  {
   "cell_type": "markdown",
   "id": "94a065b6",
   "metadata": {},
   "source": []
  },
  {
   "cell_type": "code",
   "execution_count": 8,
   "id": "0e2b3f8f",
   "metadata": {},
   "outputs": [],
   "source": [
    "# We can't add string + float\n",
    "# int() function can't convert from float string to int."
   ]
  },
  {
   "cell_type": "code",
   "execution_count": null,
   "id": "412d2f65",
   "metadata": {},
   "outputs": [],
   "source": [
    "first =float(input(\"first : \"))\n",
    "second = float(input(\"second : \"))\n",
    "sum = first + second\n",
    "print(sum)"
   ]
  },
  {
   "cell_type": "code",
   "execution_count": null,
   "id": "eca52ef6",
   "metadata": {},
   "outputs": [],
   "source": []
  }
 ],
 "metadata": {
  "kernelspec": {
   "display_name": "Python 3 (ipykernel)",
   "language": "python",
   "name": "python3"
  },
  "language_info": {
   "codemirror_mode": {
    "name": "ipython",
    "version": 3
   },
   "file_extension": ".py",
   "mimetype": "text/x-python",
   "name": "python",
   "nbconvert_exporter": "python",
   "pygments_lexer": "ipython3",
   "version": "3.10.6"
  }
 },
 "nbformat": 4,
 "nbformat_minor": 5
}

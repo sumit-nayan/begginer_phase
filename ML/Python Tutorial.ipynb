{
 "cells": [
  {
   "cell_type": "markdown",
   "id": "3e405a49",
   "metadata": {},
   "source": [
    "# Python Tutorial"
   ]
  },
  {
   "cell_type": "code",
   "execution_count": 3,
   "id": "6ad0215e",
   "metadata": {},
   "outputs": [
    {
     "name": "stdout",
     "output_type": "stream",
     "text": [
      "Premkamal\n"
     ]
    }
   ],
   "source": [
    "print(\"Premkamal\")"
   ]
  },
  {
   "cell_type": "code",
   "execution_count": 4,
   "id": "64fca93d",
   "metadata": {},
   "outputs": [],
   "source": [
    "age = 20"
   ]
  },
  {
   "cell_type": "code",
   "execution_count": 5,
   "id": "0e6afc29",
   "metadata": {},
   "outputs": [
    {
     "name": "stdout",
     "output_type": "stream",
     "text": [
      "20\n"
     ]
    }
   ],
   "source": [
    "print(age)"
   ]
  },
  {
   "cell_type": "code",
   "execution_count": 6,
   "id": "952ce243",
   "metadata": {},
   "outputs": [],
   "source": [
    "first_name = \"Sumit Nayan\""
   ]
  },
  {
   "cell_type": "code",
   "execution_count": 7,
   "id": "fea1ce44",
   "metadata": {},
   "outputs": [
    {
     "name": "stdout",
     "output_type": "stream",
     "text": [
      "Sumit Nayan\n"
     ]
    }
   ],
   "source": [
    "print(first_name)"
   ]
  },
  {
   "cell_type": "code",
   "execution_count": 8,
   "id": "b7e62c27",
   "metadata": {},
   "outputs": [],
   "source": [
    "is_online = False"
   ]
  },
  {
   "cell_type": "code",
   "execution_count": null,
   "id": "48541c96",
   "metadata": {},
   "outputs": [],
   "source": [
    "name=input(\"What is your name?\\n\")"
   ]
  },
  {
   "cell_type": "code",
   "execution_count": null,
   "id": "a92f3458",
   "metadata": {},
   "outputs": [],
   "source": [
    "print(\"Hello \"+name)"
   ]
  },
  {
   "cell_type": "code",
   "execution_count": null,
   "id": "58c8bbb4",
   "metadata": {},
   "outputs": [],
   "source": [
    "birth_year = input(\"Enter your birth year :\")"
   ]
  },
  {
   "cell_type": "code",
   "execution_count": null,
   "id": "1915ed82",
   "metadata": {
    "scrolled": true
   },
   "outputs": [],
   "source": [
    "age = 2022 - birth_year"
   ]
  },
  {
   "cell_type": "markdown",
   "id": "d933426a",
   "metadata": {},
   "source": [
    "Here error comes because we are substracting string from int. When we receive data from input fn he takes as\n",
    "string. So, we are substracting like this : 2022 - \"1998\".\n",
    "To convert in int from string we use int() function."
   ]
  },
  {
   "cell_type": "code",
   "execution_count": null,
   "id": "a5e122ec",
   "metadata": {},
   "outputs": [],
   "source": [
    "age = 2022 - int(birth_year)\n",
    "print(age)"
   ]
  },
  {
   "cell_type": "markdown",
   "id": "9eb329c7",
   "metadata": {},
   "source": [
    "We have similar function for bool(), float(),str()"
   ]
  },
  {
   "cell_type": "markdown",
   "id": "835b7a3a",
   "metadata": {},
   "source": [
    "# Addition of String, Number & Float"
   ]
  },
  {
   "cell_type": "code",
   "execution_count": null,
   "id": "b592bb34",
   "metadata": {},
   "outputs": [],
   "source": [
    "first = input(\"first : \")\n",
    "second = input(\"second : \")\n",
    "sum = first + second\n",
    "print(sum)\n",
    "\n",
    "#Here we are adding two string.,so answer of 10+10 will come as 1010."
   ]
  },
  {
   "cell_type": "markdown",
   "id": "94a065b6",
   "metadata": {},
   "source": []
  },
  {
   "cell_type": "code",
   "execution_count": null,
   "id": "0e2b3f8f",
   "metadata": {},
   "outputs": [],
   "source": [
    "# We can't add string + float\n",
    "# int() function can't convert from float string to int."
   ]
  },
  {
   "cell_type": "code",
   "execution_count": null,
   "id": "412d2f65",
   "metadata": {},
   "outputs": [],
   "source": [
    "first =float(input(\"first : \"))\n",
    "second = float(input(\"second : \"))\n",
    "sum = first + second\n",
    "print(sum)"
   ]
  },
  {
   "cell_type": "code",
   "execution_count": null,
   "id": "eca52ef6",
   "metadata": {},
   "outputs": [],
   "source": [
    "print(\"Sum: \" + sum)\n",
    "#this will give error because we are addiing float + string"
   ]
  },
  {
   "cell_type": "code",
   "execution_count": null,
   "id": "4ab432ab",
   "metadata": {},
   "outputs": [],
   "source": [
    "#after converting int to str we can apply\n",
    "print(\"sum : \" + str(sum))"
   ]
  },
  {
   "cell_type": "code",
   "execution_count": null,
   "id": "3445ec34",
   "metadata": {},
   "outputs": [],
   "source": [
    "course = 'Python for Begineers'\n",
    "print(course.upper())\n",
    "print(course)\n",
    "# here course is an object we can apply many operation on course just after clicking course. . we will see many more exmaples fn like this. \n"
   ]
  },
  {
   "cell_type": "markdown",
   "id": "620aad33",
   "metadata": {},
   "source": [
    "String in python are object"
   ]
  },
  {
   "cell_type": "code",
   "execution_count": null,
   "id": "366e80c8",
   "metadata": {},
   "outputs": [],
   "source": [
    "print(course.find('y'))\n",
    "# Here index start from 0 as 1st letter and second as 1 and go on. So, this fn will find 'y' at position 1. Python is sensitive in capital and small so if we find 'Y', it will return -1.\n",
    "\n",
    "print(course.find('Y'))\n",
    "\n",
    "print(course.find('for'))"
   ]
  },
  {
   "cell_type": "code",
   "execution_count": null,
   "id": "81c2a538",
   "metadata": {},
   "outputs": [],
   "source": [
    "print(course.replace('for','4'))"
   ]
  },
  {
   "cell_type": "code",
   "execution_count": null,
   "id": "6f2707ee",
   "metadata": {},
   "outputs": [],
   "source": [
    "print(course)\n",
    "# These fn will not change original fn"
   ]
  },
  {
   "cell_type": "code",
   "execution_count": null,
   "id": "2b43b6fc",
   "metadata": {},
   "outputs": [],
   "source": [
    "print(course.replace('x','54'))\n",
    "# Here there will no change because there are no error"
   ]
  },
  {
   "cell_type": "code",
   "execution_count": null,
   "id": "6a1200df",
   "metadata": {},
   "outputs": [],
   "source": [
    "print('Python' in course)\n",
    "\n",
    "#?????"
   ]
  },
  {
   "cell_type": "markdown",
   "id": "f52388f1",
   "metadata": {},
   "source": [
    "# Arithmetic Operation"
   ]
  },
  {
   "cell_type": "code",
   "execution_count": null,
   "id": "aab32866",
   "metadata": {},
   "outputs": [],
   "source": [
    "print(10+20)"
   ]
  },
  {
   "cell_type": "code",
   "execution_count": null,
   "id": "94f0e3c6",
   "metadata": {},
   "outputs": [],
   "source": [
    "# Three types of division\n",
    "print(10/3)\n",
    "print(10//3)\n",
    "print(10%3)         #Remainder\n",
    "\n",
    "# ** means power\n",
    "print(2**3)"
   ]
  },
  {
   "cell_type": "code",
   "execution_count": null,
   "id": "cf616ed2",
   "metadata": {},
   "outputs": [],
   "source": [
    "# Operator PRECEDENCE    BODMAS lgta hai\n",
    "\n",
    "x = 10 + 3 * 2\n",
    "\n",
    "print(x)"
   ]
  },
  {
   "cell_type": "code",
   "execution_count": null,
   "id": "e4e193aa",
   "metadata": {},
   "outputs": [],
   "source": [
    "x = 3 > 2    # It will give boolean result more like this >, >=, <, <=, ==, !=\n",
    "print(x)"
   ]
  },
  {
   "cell_type": "markdown",
   "id": "3daad64c",
   "metadata": {},
   "source": [
    "# Logical Operator"
   ]
  },
  {
   "cell_type": "code",
   "execution_count": null,
   "id": "aea6cc27",
   "metadata": {},
   "outputs": [],
   "source": [
    "price = 25\n",
    "\n",
    "print(price>10)\n",
    "print(price>10 and price<30)   # ALl must be true\n",
    "print(price>10 or price<30)     # Only one true will give true result"
   ]
  },
  {
   "cell_type": "code",
   "execution_count": null,
   "id": "e4a3702f",
   "metadata": {},
   "outputs": [],
   "source": [
    "print(not price>10)  # not inverse b/w true and false"
   ]
  },
  {
   "cell_type": "code",
   "execution_count": null,
   "id": "0ceef720",
   "metadata": {},
   "outputs": [],
   "source": [
    "temperature = int(input(\"Enter temperature\"))\n",
    "\n",
    "if temperature > 30 :\n",
    "    print(\"It's a hot day\")\n",
    "    print(\"Drink plenty of water\")  # position matter krta hai ki if ke andar kaun kaun aata hai\n",
    "elif temperature > 20:\n",
    "    print(\"It's a nice day\")\n",
    "elif temperature >10:\n",
    "    print(\"It's bit cold\")\n",
    "else:\n",
    "    print(\"It's cold\")\n",
    "print(\"Sumit Nayan\")"
   ]
  },
  {
   "cell_type": "code",
   "execution_count": null,
   "id": "c08215d3",
   "metadata": {},
   "outputs": [],
   "source": [
    "#Exercise\n",
    "weight = input(\"Enter your weight :\")\n",
    "a = input(\"your weight is in : \")\n",
    "a = a.upper()\n",
    "\n",
    "if a==\"K\":\n",
    "    print(\"Weight in Kg: \"+weight)\n",
    "elif a==\"L\":\n",
    "    print(\"Weight in Lbs:\"+weight)"
   ]
  },
  {
   "cell_type": "markdown",
   "id": "62ad078d",
   "metadata": {},
   "source": [
    "# Lists"
   ]
  },
  {
   "cell_type": "code",
   "execution_count": null,
   "id": "082b127b",
   "metadata": {},
   "outputs": [],
   "source": [
    "names = [\"Jhon\", \"Bob\", \"Sam\" \"Mary\"]\n",
    "print(names)\n",
    "names = [\"Jhon\", \"Bob\", \"Sam\", \"Mary\"]\n",
    "print(names)"
   ]
  },
  {
   "cell_type": "code",
   "execution_count": null,
   "id": "bdf54000",
   "metadata": {},
   "outputs": [],
   "source": [
    "print(names[0])"
   ]
  },
  {
   "cell_type": "code",
   "execution_count": null,
   "id": "a01fd1e7",
   "metadata": {},
   "outputs": [],
   "source": [
    "print(names[-1])\n",
    "print(names[-2])   # -1 represent last letter of lists and go on"
   ]
  },
  {
   "cell_type": "code",
   "execution_count": null,
   "id": "3deaa6a5",
   "metadata": {},
   "outputs": [],
   "source": [
    "names[0] = \"Jon\"  # we can use in this way also\n",
    "print(names)"
   ]
  },
  {
   "cell_type": "code",
   "execution_count": null,
   "id": "d1b2ad85",
   "metadata": {},
   "outputs": [],
   "source": [
    "print(names[0:3])   # It will give three element starting from index zero. and this will not change original list\n",
    "\n",
    "print(names)"
   ]
  },
  {
   "cell_type": "code",
   "execution_count": null,
   "id": "1248fb67",
   "metadata": {},
   "outputs": [],
   "source": [
    "numbers = [1,2,3,4,5]\n",
    "\n",
    "numbers.append(6)   # will add in last & will change original list\n",
    "print(numbers)"
   ]
  },
  {
   "cell_type": "code",
   "execution_count": null,
   "id": "a669d133",
   "metadata": {},
   "outputs": [],
   "source": [
    "# for inserting in b/w we will use insert fn\n",
    "\n",
    "numbers.insert(0, -1)   #It changes the original list, so, running this program 2 times will add -1 2 times \n",
    "print(numbers)"
   ]
  },
  {
   "cell_type": "code",
   "execution_count": null,
   "id": "87ccbf6c",
   "metadata": {},
   "outputs": [],
   "source": [
    "numbers.remove(3)   # will remove 3 from list 9not indes 3\n",
    "print(numbers)"
   ]
  },
  {
   "cell_type": "code",
   "execution_count": null,
   "id": "852b1900",
   "metadata": {},
   "outputs": [],
   "source": [
    "numbers.clear()\n",
    "print(numbers)"
   ]
  },
  {
   "cell_type": "code",
   "execution_count": null,
   "id": "601af687",
   "metadata": {},
   "outputs": [],
   "source": [
    "numbers = [1,2,3,4,5]\n",
    "print(1 in numbers)    # for checking 1 is in list or not and will return bool"
   ]
  },
  {
   "cell_type": "code",
   "execution_count": null,
   "id": "eda167a4",
   "metadata": {},
   "outputs": [],
   "source": [
    "print(len(numbers))   # will tell length of list"
   ]
  },
  {
   "cell_type": "markdown",
   "id": "8f4b0640",
   "metadata": {},
   "source": [
    "# Loops"
   ]
  },
  {
   "cell_type": "code",
   "execution_count": null,
   "id": "48d14d7c",
   "metadata": {},
   "outputs": [],
   "source": [
    "i = 5\n",
    "while i<=10:\n",
    "    print(i)\n",
    "    i=i+1"
   ]
  },
  {
   "cell_type": "code",
   "execution_count": 57,
   "id": "bcc39eca",
   "metadata": {},
   "outputs": [
    {
     "name": "stdout",
     "output_type": "stream",
     "text": [
      "1\n",
      "2\n",
      "3\n",
      "4\n",
      "5\n"
     ]
    }
   ],
   "source": [
    "numbers = [1,2,3,4,5]\n",
    "\n",
    "for item in numbers:    # it will start iteration from index zero and will go on till last\n",
    "    print(item)\n"
   ]
  },
  {
   "cell_type": "markdown",
   "id": "e3a5dcc8",
   "metadata": {},
   "source": [
    "# Range function"
   ]
  },
  {
   "cell_type": "code",
   "execution_count": 64,
   "id": "f17e8087",
   "metadata": {},
   "outputs": [
    {
     "name": "stdout",
     "output_type": "stream",
     "text": [
      "range(0, 5)\n"
     ]
    }
   ],
   "source": [
    "numbers1 = range(5)   #generate numbers from zero to four\n",
    "print(numbers1)"
   ]
  },
  {
   "cell_type": "code",
   "execution_count": 65,
   "id": "c9d4ea82",
   "metadata": {},
   "outputs": [
    {
     "name": "stdout",
     "output_type": "stream",
     "text": [
      "0\n",
      "1\n",
      "2\n",
      "3\n",
      "4\n"
     ]
    }
   ],
   "source": [
    "for i in numbers1:\n",
    "    print(i)"
   ]
  },
  {
   "cell_type": "code",
   "execution_count": 66,
   "id": "84683d2a",
   "metadata": {},
   "outputs": [
    {
     "name": "stdout",
     "output_type": "stream",
     "text": [
      "5\n",
      "6\n",
      "7\n",
      "8\n",
      "9\n"
     ]
    }
   ],
   "source": [
    "numbers2 = range(5,10) #Generate number from 5 to 9\n",
    "for i in numbers2:\n",
    "    print(i)"
   ]
  },
  {
   "cell_type": "code",
   "execution_count": 68,
   "id": "6576fbc2",
   "metadata": {},
   "outputs": [
    {
     "name": "stdout",
     "output_type": "stream",
     "text": [
      "5\n",
      "7\n",
      "9\n",
      "11\n",
      "13\n",
      "15\n",
      "17\n",
      "19\n"
     ]
    }
   ],
   "source": [
    "numbers3 = range(5,20,2)   # will be at 2 step]\n",
    "for i in numbers3:\n",
    "    print(i)"
   ]
  },
  {
   "cell_type": "code",
   "execution_count": 70,
   "id": "8c4c0ae7",
   "metadata": {},
   "outputs": [
    {
     "name": "stdout",
     "output_type": "stream",
     "text": [
      "10\n",
      "15\n",
      "20\n",
      "25\n",
      "30\n",
      "35\n",
      "40\n",
      "45\n",
      "50\n",
      "55\n",
      "60\n",
      "65\n",
      "70\n",
      "75\n",
      "80\n",
      "85\n",
      "90\n",
      "95\n"
     ]
    }
   ],
   "source": [
    "for i in range(10,100,5):   # you don't need to  store range numbers in seprate variable\n",
    "    print(i)"
   ]
  },
  {
   "cell_type": "markdown",
   "id": "b3991beb",
   "metadata": {},
   "source": [
    "# Tuples"
   ]
  },
  {
   "cell_type": "markdown",
   "id": "5b3d214f",
   "metadata": {},
   "source": [
    "It's like linked list, but toples can't change once created"
   ]
  },
  {
   "cell_type": "code",
   "execution_count": 75,
   "id": "dbfa2644",
   "metadata": {},
   "outputs": [
    {
     "ename": "TypeError",
     "evalue": "'range' object does not support item assignment",
     "output_type": "error",
     "traceback": [
      "\u001b[0;31m---------------------------------------------------------------------------\u001b[0m",
      "\u001b[0;31mTypeError\u001b[0m                                 Traceback (most recent call last)",
      "Cell \u001b[0;32mIn[75], line 2\u001b[0m\n\u001b[1;32m      1\u001b[0m numbers4 \u001b[39m=\u001b[39m (\u001b[39m1\u001b[39m,\u001b[39m2\u001b[39m,\u001b[39m3\u001b[39m,\u001b[39m3\u001b[39m,\u001b[39m2\u001b[39m,\u001b[39m2\u001b[39m,\u001b[39m3\u001b[39m,\u001b[39m3\u001b[39m,\u001b[39m3\u001b[39m)\n\u001b[0;32m----> 2\u001b[0m numbers[\u001b[39m0\u001b[39;49m] \u001b[39m=\u001b[39m \u001b[39m4\u001b[39m   \u001b[39m#it will be error because toples can't be changed.  If we click numbers4. then there we will not see fn like append, insert, remove. we can only count and index\u001b[39;00m\n",
      "\u001b[0;31mTypeError\u001b[0m: 'range' object does not support item assignment"
     ]
    }
   ],
   "source": [
    "numbers4 = (1,2,3,3,2,2,3,3,3)\n",
    "numbers[0] = 4   #it will be error because toples can't be changed.  If we click numbers4. then there we will not see fn like append, insert, remove. we can only count and index"
   ]
  },
  {
   "cell_type": "code",
   "execution_count": 80,
   "id": "63c49a7d",
   "metadata": {},
   "outputs": [
    {
     "name": "stdout",
     "output_type": "stream",
     "text": [
      "5\n"
     ]
    }
   ],
   "source": [
    "print(numbers4.count(3))   #ye count kr ke dega 3 kitni baar aaya   & Index first occurance of element dega"
   ]
  }
 ],
 "metadata": {
  "kernelspec": {
   "display_name": "Python 3 (ipykernel)",
   "language": "python",
   "name": "python3"
  },
  "language_info": {
   "codemirror_mode": {
    "name": "ipython",
    "version": 3
   },
   "file_extension": ".py",
   "mimetype": "text/x-python",
   "name": "python",
   "nbconvert_exporter": "python",
   "pygments_lexer": "ipython3",
   "version": "3.10.7"
  },
  "vscode": {
   "interpreter": {
    "hash": "916dbcbb3f70747c44a77c7bcd40155683ae19c65e1c03b4aa3499c5328201f1"
   }
  }
 },
 "nbformat": 4,
 "nbformat_minor": 5
}
